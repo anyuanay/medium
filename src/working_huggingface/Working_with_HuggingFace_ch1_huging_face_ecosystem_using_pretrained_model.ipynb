{
  "nbformat": 4,
  "nbformat_minor": 0,
  "metadata": {
    "colab": {
      "provenance": [],
      "authorship_tag": "ABX9TyOVf5W8u4ro/1mA3a4W5CLU",
      "include_colab_link": true
    },
    "kernelspec": {
      "name": "python3",
      "display_name": "Python 3"
    },
    "language_info": {
      "name": "python"
    }
  },
  "cells": [
    {
      "cell_type": "markdown",
      "metadata": {
        "id": "view-in-github",
        "colab_type": "text"
      },
      "source": [
        "<a href=\"https://colab.research.google.com/github/anyuanay/medium/blob/main/src/working_huggingface/Working_with_HuggingFace_ch1_huging_face_ecosystem_using_pretrained_model.ipynb\" target=\"_parent\"><img src=\"https://colab.research.google.com/assets/colab-badge.svg\" alt=\"Open In Colab\"/></a>"
      ]
    },
    {
      "cell_type": "markdown",
      "source": [
        "# Working with Hugging Face Models and Datasets\n",
        "## Getting Familiar with the Hugging Face Ecosystem\n",
        "### Using a pre-trained transformer model and tokenizer to classify text"
      ],
      "metadata": {
        "id": "PJyKdlGDDWbN"
      }
    },
    {
      "cell_type": "code",
      "execution_count": null,
      "metadata": {
        "id": "tlzC1OW_DRzv"
      },
      "outputs": [],
      "source": []
    }
  ]
}